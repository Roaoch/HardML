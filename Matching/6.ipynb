{
 "cells": [
  {
   "cell_type": "code",
   "execution_count": 1,
   "id": "09b56051-55dc-4337-bd4c-2e4a3324d709",
   "metadata": {},
   "outputs": [
    {
     "name": "stdout",
     "output_type": "stream",
     "text": [
      "Requirement already satisfied: torch in /opt/conda/lib/python3.8/site-packages (1.7.1)\n",
      "Requirement already satisfied: numpy in /opt/conda/lib/python3.8/site-packages (from torch) (1.19.2)\n",
      "Requirement already satisfied: typing-extensions in /opt/conda/lib/python3.8/site-packages (from torch) (4.5.0)\n",
      "Requirement already satisfied: tqdm in /opt/conda/lib/python3.8/site-packages (4.65.0)\n"
     ]
    }
   ],
   "source": [
    "!pip install torch\n",
    "!pip install tqdm"
   ]
  },
  {
   "cell_type": "code",
   "execution_count": 73,
   "id": "54d172e2-1df0-495c-8bf4-1d5050db3819",
   "metadata": {},
   "outputs": [],
   "source": [
    "from collections import OrderedDict, defaultdict\n",
    "from typing import Callable, Tuple, Dict, List\n",
    "from queue import PriorityQueue\n",
    "import numpy as np\n",
    "from tqdm.auto import tqdm\n",
    "\n",
    "\n",
    "def distance(pointA: np.ndarray, documents: np.ndarray) -> np.ndarray:\n",
    "    matrix = np.repeat(pointA, len(documents), axis=0)\n",
    "    res = (documents - matrix)**2\n",
    "    res = np.sqrt(np.sum(res, axis=1))\n",
    "    return res.reshape(res.shape[0], 1)\n",
    "\n",
    "\n",
    "def create_sw_graph(\n",
    "        data: np.ndarray,\n",
    "        num_candidates_for_choice_long: int = 10,\n",
    "        num_edges_long: int = 5,\n",
    "        num_candidates_for_choice_short: int = 10,\n",
    "        num_edges_short: int = 5,\n",
    "        use_sampling: bool = False,\n",
    "        sampling_share: float = 0.05,\n",
    "        dist_f: Callable = distance\n",
    "    ) -> Dict[int, List[int]]:\n",
    "    res = {}\n",
    "    for i, point in enumerate(data):\n",
    "        links = []\n",
    "        if use_sampling:\n",
    "            distancetoAll =  dist_f(point, data[np.random.randint(0, len(data) - 1, int(len(data) * sampling_share))])\n",
    "        else:\n",
    "            distancetoAll = dist_f(point.reshape((1, len(point))), data)\n",
    "        sortedDistance = np.argsort(distancetoAll.reshape(len(distancetoAll)))\n",
    "        sortedDistance = sortedDistance[sortedDistance != i]\n",
    "        links = [*sortedDistance[-num_edges_long:], *sortedDistance[:num_edges_short]]\n",
    "        res.update({i: links})\n",
    "    return res\n",
    "        \n",
    "\n",
    "def control_queue(queue: list, visited_vertex: dict, search_k: int, all_vertex: list):\n",
    "    if queue and len(visited_vertex) < search_k:\n",
    "        remainder = list(set(all_vertex).difference(set(visited_vertex.keys())))\n",
    "        queue.append(np.random.choice(remainder, 1)[0])\n",
    "\n",
    "def nsw(query_point: np.ndarray, all_documents: np.ndarray, \n",
    "        graph_edges: Dict[int, List[int]],\n",
    "        search_k: int = 10, num_start_points: int = 5,\n",
    "        dist_f: Callable = distance) -> np.ndarray:\n",
    "    \n",
    "    all_vertex = list(range(all_documents.shape[0]))\n",
    "    \n",
    "    queue = list(np.random.choice(all_vertex, num_start_points, replace=False))\n",
    "    visited_vertex = dict()\n",
    "    \n",
    "    while queue:\n",
    "        point = queue.pop()\n",
    "        if point in visited_vertex:\n",
    "            control_queue(queue, visited_vertex, search_k, all_vertex)\n",
    "            continue\n",
    "        else:\n",
    "            neighbours = []\n",
    "            for neighbour in graph_edges[point]:\n",
    "                if neighbour in visited_vertex:\n",
    "                    continue\n",
    "                neighbours.append(neighbour)\n",
    "            distances = dist_f(query_point, all_documents[neighbours]).squeeze()\n",
    "            if len(neighbours) == 1:\n",
    "                distances = [distances]\n",
    "            visited_vertex.update(list(zip(neighbours, distances)))\n",
    "            queue.extend(neighbours)\n",
    "        control_queue(queue, visited_vertex, search_k, all_vertex)\n",
    "        \n",
    "    nearest = list(zip(*sorted(visited_vertex.items(), key=lambda x: x[1])))[0][:search_k]\n",
    "    return nearest\n"
   ]
  },
  {
   "cell_type": "code",
   "execution_count": 78,
   "id": "5b60ad90-56d7-4233-80b7-2d64794c4576",
   "metadata": {},
   "outputs": [],
   "source": [
    "def trueNearest(\n",
    "    query_point: np.ndarray, \n",
    "    all_documents: np.ndarray\n",
    ") -> np.ndarray:\n",
    "    dist = distance(query, all_documents)\n",
    "    indice = np.argsort(dist.reshape(dist.shape[0]))[:20]\n",
    "    return indice"
   ]
  },
  {
   "cell_type": "code",
   "execution_count": 79,
   "id": "aaa9fef0-0ead-4f6f-b1bb-9d5b9e9c99dd",
   "metadata": {},
   "outputs": [
    {
     "name": "stdout",
     "output_type": "stream",
     "text": [
      "[[113 259 121   2]\n",
      " [ 85 268 111   2]\n",
      " [ 61 309 120  17]\n",
      " [116 257  78  42]\n",
      " [ 94 243  82  27]\n",
      " [135 259 117  25]\n",
      " [100 254 122  24]\n",
      " [ 76 237 139  65]\n",
      " [ 89 310 127  75]\n",
      " [118 298 117  38]\n",
      " [ 74 285 105  99]\n",
      " [ 65 306  74  46]\n",
      " [ 48 288 136  73]\n",
      " [ 56 260 101  57]\n",
      " [120 323 117  39]\n",
      " [ 81 276  74  10]\n",
      " [ 85 243 116  73]\n",
      " [109 251 117  89]\n",
      " [119 270 101  69]\n",
      " [ 85 241 127  50]]\n",
      "[[116 257  78  42]\n",
      " [116 257  78  42]\n",
      " [ 67 311  55 294]\n",
      " [ 76 191 160  22]\n",
      " [ 54 242 172 125]\n",
      " [189 284 179  54]\n",
      " [ 41 313  77 301]\n",
      " [ 41 313  77 301]\n",
      " [205 121  94 120]\n",
      " [ 85 241 127  50]]\n",
      "20.0%\n"
     ]
    }
   ],
   "source": [
    "data = np.random.randint(0, 400, (10000, 4))\n",
    "query = np.random.randint(0, 400, (1, 4))\n",
    "edges = create_sw_graph(data)\n",
    "\n",
    "aprox = nsw(query, data, edges)\n",
    "true = trueNearest(query, data)\n",
    "\n",
    "print(data[np.sort(true)])\n",
    "print(data[np.sort(aprox)])\n",
    "print(f'{len(np.intersect1d(true, aprox)) / 10 * 100}%')"
   ]
  },
  {
   "cell_type": "code",
   "execution_count": null,
   "id": "4510f0a5-6032-42a2-8b07-a04c1b5a4ca8",
   "metadata": {},
   "outputs": [],
   "source": []
  },
  {
   "cell_type": "code",
   "execution_count": null,
   "id": "c4dab743-94db-406d-8029-2dbd12c966d5",
   "metadata": {},
   "outputs": [],
   "source": []
  }
 ],
 "metadata": {
  "kernelspec": {
   "display_name": "Python 3 (ipykernel)",
   "language": "python",
   "name": "python3"
  },
  "language_info": {
   "codemirror_mode": {
    "name": "ipython",
    "version": 3
   },
   "file_extension": ".py",
   "mimetype": "text/x-python",
   "name": "python",
   "nbconvert_exporter": "python",
   "pygments_lexer": "ipython3",
   "version": "3.8.10"
  }
 },
 "nbformat": 4,
 "nbformat_minor": 5
}
