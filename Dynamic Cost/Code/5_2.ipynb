{
 "cells": [
  {
   "cell_type": "markdown",
   "id": "edc02053-2079-44f6-b370-5e6855008840",
   "metadata": {},
   "source": [
    "# Задание 1.2: Модель эластичности"
   ]
  },
  {
   "cell_type": "code",
   "execution_count": 1,
   "id": "7a2015ce-23c8-462e-a637-09b5269fb39c",
   "metadata": {},
   "outputs": [],
   "source": [
    "from typing import List, Dict, Any, Tuple, Union, Optional\n",
    "\n",
    "from datetime import datetime, timedelta\n",
    "import pandas as pd\n",
    "import numpy as np\n",
    "\n",
    "import matplotlib.pyplot as plt\n",
    "\n",
    "import warnings\n",
    "\n",
    "warnings.filterwarnings(\"ignore\")\n",
    "\n",
    "import logging\n",
    "\n",
    "logging.basicConfig()\n",
    "logger = logging.getLogger(\"model\")\n",
    "logger.setLevel(logging.INFO)"
   ]
  },
  {
   "cell_type": "markdown",
   "id": "bc30b711-0ea0-4537-8980-bdb768f8edbf",
   "metadata": {},
   "source": [
    "## Данные"
   ]
  },
  {
   "cell_type": "code",
   "execution_count": 2,
   "id": "67cb2ff4-472f-454c-b72e-8b8622d35f4e",
   "metadata": {},
   "outputs": [
    {
     "data": {
      "text/html": [
       "<div>\n",
       "<style scoped>\n",
       "    .dataframe tbody tr th:only-of-type {\n",
       "        vertical-align: middle;\n",
       "    }\n",
       "\n",
       "    .dataframe tbody tr th {\n",
       "        vertical-align: top;\n",
       "    }\n",
       "\n",
       "    .dataframe thead th {\n",
       "        text-align: right;\n",
       "    }\n",
       "</style>\n",
       "<table border=\"1\" class=\"dataframe\">\n",
       "  <thead>\n",
       "    <tr style=\"text-align: right;\">\n",
       "      <th></th>\n",
       "      <th>sku_id</th>\n",
       "      <th>gmv</th>\n",
       "      <th>orders_num</th>\n",
       "      <th>price</th>\n",
       "      <th>ds</th>\n",
       "    </tr>\n",
       "  </thead>\n",
       "  <tbody>\n",
       "    <tr>\n",
       "      <th>283</th>\n",
       "      <td>284</td>\n",
       "      <td>121161.0</td>\n",
       "      <td>116</td>\n",
       "      <td>1044.49</td>\n",
       "      <td>20230601</td>\n",
       "    </tr>\n",
       "    <tr>\n",
       "      <th>302</th>\n",
       "      <td>303</td>\n",
       "      <td>10413.0</td>\n",
       "      <td>186</td>\n",
       "      <td>55.98</td>\n",
       "      <td>20230601</td>\n",
       "    </tr>\n",
       "    <tr>\n",
       "      <th>235</th>\n",
       "      <td>236</td>\n",
       "      <td>550034.0</td>\n",
       "      <td>2569</td>\n",
       "      <td>214.10</td>\n",
       "      <td>20230601</td>\n",
       "    </tr>\n",
       "    <tr>\n",
       "      <th>206</th>\n",
       "      <td>207</td>\n",
       "      <td>18895.0</td>\n",
       "      <td>250</td>\n",
       "      <td>75.58</td>\n",
       "      <td>20230601</td>\n",
       "    </tr>\n",
       "    <tr>\n",
       "      <th>245</th>\n",
       "      <td>246</td>\n",
       "      <td>264666.0</td>\n",
       "      <td>3232</td>\n",
       "      <td>81.89</td>\n",
       "      <td>20230601</td>\n",
       "    </tr>\n",
       "  </tbody>\n",
       "</table>\n",
       "</div>"
      ],
      "text/plain": [
       "     sku_id       gmv  orders_num    price        ds\n",
       "283     284  121161.0         116  1044.49  20230601\n",
       "302     303   10413.0         186    55.98  20230601\n",
       "235     236  550034.0        2569   214.10  20230601\n",
       "206     207   18895.0         250    75.58  20230601\n",
       "245     246  264666.0        3232    81.89  20230601"
      ]
     },
     "execution_count": 2,
     "metadata": {},
     "output_type": "execute_result"
    }
   ],
   "source": [
    "sales_df = pd.read_parquet(\"./hm/sales.parquet\")\n",
    "sales_df[\"ds\"] = sales_df[\"ds\"].astype(str)\n",
    "sales_df.head()"
   ]
  },
  {
   "cell_type": "markdown",
   "id": "a9ea159a-e639-47e3-a5dd-cbc2bcbc16d5",
   "metadata": {},
   "source": [
    "## Модель эластичности"
   ]
  },
  {
   "cell_type": "code",
   "execution_count": 3,
   "id": "3877fe08-ed21-4d1c-98c7-514911c88124",
   "metadata": {},
   "outputs": [],
   "source": [
    "def calculate_elasticity(df: pd.DataFrame, column: str, lvl: List[str]) -> pd.DataFrame:\n",
    "    df[f\"prev_{column}\"] = df.groupby(\"sku_id\")[column].shift(1)\n",
    "    df[\"prev_price\"] = df.groupby(\"sku_id\")[\"price\"].shift(1)\n",
    "    df = df[df[\"prev_price\"] - df[\"price\"] != 0]\n",
    "    df[f\"elasticity_{column}\"] = (\n",
    "        (df[column] - df[f\"prev_{column}\"]) / (df[\"price\"] - df[\"prev_price\"])\n",
    "    ) * ((df[\"price\"] + df[\"prev_price\"]) / (df[column] + df[f\"prev_{column}\"]))\n",
    "    df = df.groupby(lvl).agg({f\"elasticity_{column}\": \"mean\"}).reset_index()\n",
    "    df[f\"elasticity_{column}\"] = df[f\"elasticity_{column}\"].clip(upper=-0.01, lower=-3)\n",
    "    return df"
   ]
  },
  {
   "cell_type": "code",
   "execution_count": 4,
   "id": "f8766070-de4b-44ea-9161-e3e3a3a6f07f",
   "metadata": {},
   "outputs": [
    {
     "data": {
      "text/html": [
       "<div>\n",
       "<style scoped>\n",
       "    .dataframe tbody tr th:only-of-type {\n",
       "        vertical-align: middle;\n",
       "    }\n",
       "\n",
       "    .dataframe tbody tr th {\n",
       "        vertical-align: top;\n",
       "    }\n",
       "\n",
       "    .dataframe thead th {\n",
       "        text-align: right;\n",
       "    }\n",
       "</style>\n",
       "<table border=\"1\" class=\"dataframe\">\n",
       "  <thead>\n",
       "    <tr style=\"text-align: right;\">\n",
       "      <th></th>\n",
       "      <th>sku_id</th>\n",
       "      <th>elasticity_gmv</th>\n",
       "    </tr>\n",
       "  </thead>\n",
       "  <tbody>\n",
       "    <tr>\n",
       "      <th>0</th>\n",
       "      <td>1</td>\n",
       "      <td>-0.01</td>\n",
       "    </tr>\n",
       "    <tr>\n",
       "      <th>1</th>\n",
       "      <td>3</td>\n",
       "      <td>-0.01</td>\n",
       "    </tr>\n",
       "    <tr>\n",
       "      <th>2</th>\n",
       "      <td>4</td>\n",
       "      <td>-0.01</td>\n",
       "    </tr>\n",
       "    <tr>\n",
       "      <th>3</th>\n",
       "      <td>7</td>\n",
       "      <td>-0.01</td>\n",
       "    </tr>\n",
       "    <tr>\n",
       "      <th>4</th>\n",
       "      <td>8</td>\n",
       "      <td>-0.01</td>\n",
       "    </tr>\n",
       "  </tbody>\n",
       "</table>\n",
       "</div>"
      ],
      "text/plain": [
       "   sku_id  elasticity_gmv\n",
       "0       1           -0.01\n",
       "1       3           -0.01\n",
       "2       4           -0.01\n",
       "3       7           -0.01\n",
       "4       8           -0.01"
      ]
     },
     "execution_count": 4,
     "metadata": {},
     "output_type": "execute_result"
    }
   ],
   "source": [
    "elasticity_gmv_df = calculate_elasticity(\n",
    "    df=sales_df.copy(deep=True), column=\"gmv\", lvl=[\"sku_id\"]\n",
    ")\n",
    "elasticity_gmv_df.head()"
   ]
  },
  {
   "cell_type": "code",
   "execution_count": 5,
   "id": "5cf1d6b5-2e91-459b-b569-202118c21699",
   "metadata": {},
   "outputs": [
    {
     "data": {
      "text/html": [
       "<div>\n",
       "<style scoped>\n",
       "    .dataframe tbody tr th:only-of-type {\n",
       "        vertical-align: middle;\n",
       "    }\n",
       "\n",
       "    .dataframe tbody tr th {\n",
       "        vertical-align: top;\n",
       "    }\n",
       "\n",
       "    .dataframe thead th {\n",
       "        text-align: right;\n",
       "    }\n",
       "</style>\n",
       "<table border=\"1\" class=\"dataframe\">\n",
       "  <thead>\n",
       "    <tr style=\"text-align: right;\">\n",
       "      <th></th>\n",
       "      <th>sku_id</th>\n",
       "      <th>elasticity_orders_num</th>\n",
       "    </tr>\n",
       "  </thead>\n",
       "  <tbody>\n",
       "    <tr>\n",
       "      <th>0</th>\n",
       "      <td>1</td>\n",
       "      <td>-0.091652</td>\n",
       "    </tr>\n",
       "    <tr>\n",
       "      <th>1</th>\n",
       "      <td>3</td>\n",
       "      <td>-0.389979</td>\n",
       "    </tr>\n",
       "    <tr>\n",
       "      <th>2</th>\n",
       "      <td>4</td>\n",
       "      <td>-0.010000</td>\n",
       "    </tr>\n",
       "    <tr>\n",
       "      <th>3</th>\n",
       "      <td>7</td>\n",
       "      <td>-0.010000</td>\n",
       "    </tr>\n",
       "    <tr>\n",
       "      <th>4</th>\n",
       "      <td>8</td>\n",
       "      <td>-0.010000</td>\n",
       "    </tr>\n",
       "  </tbody>\n",
       "</table>\n",
       "</div>"
      ],
      "text/plain": [
       "   sku_id  elasticity_orders_num\n",
       "0       1              -0.091652\n",
       "1       3              -0.389979\n",
       "2       4              -0.010000\n",
       "3       7              -0.010000\n",
       "4       8              -0.010000"
      ]
     },
     "execution_count": 5,
     "metadata": {},
     "output_type": "execute_result"
    }
   ],
   "source": [
    "elasticity_orders_num_df = calculate_elasticity(\n",
    "    df=sales_df, column=\"orders_num\", lvl=[\"sku_id\"]\n",
    ")\n",
    "elasticity_orders_num_df.head()"
   ]
  },
  {
   "cell_type": "code",
   "execution_count": 6,
   "id": "d0dfb47f-9268-4fba-8493-d1878b61d325",
   "metadata": {},
   "outputs": [
    {
     "data": {
      "text/html": [
       "<div>\n",
       "<style scoped>\n",
       "    .dataframe tbody tr th:only-of-type {\n",
       "        vertical-align: middle;\n",
       "    }\n",
       "\n",
       "    .dataframe tbody tr th {\n",
       "        vertical-align: top;\n",
       "    }\n",
       "\n",
       "    .dataframe thead th {\n",
       "        text-align: right;\n",
       "    }\n",
       "</style>\n",
       "<table border=\"1\" class=\"dataframe\">\n",
       "  <thead>\n",
       "    <tr style=\"text-align: right;\">\n",
       "      <th></th>\n",
       "      <th>sku_id</th>\n",
       "      <th>elasticity_gmv</th>\n",
       "      <th>elasticity_orders_num</th>\n",
       "    </tr>\n",
       "  </thead>\n",
       "  <tbody>\n",
       "    <tr>\n",
       "      <th>0</th>\n",
       "      <td>1</td>\n",
       "      <td>-0.01</td>\n",
       "      <td>-0.091652</td>\n",
       "    </tr>\n",
       "    <tr>\n",
       "      <th>1</th>\n",
       "      <td>3</td>\n",
       "      <td>-0.01</td>\n",
       "      <td>-0.389979</td>\n",
       "    </tr>\n",
       "    <tr>\n",
       "      <th>2</th>\n",
       "      <td>4</td>\n",
       "      <td>-0.01</td>\n",
       "      <td>-0.010000</td>\n",
       "    </tr>\n",
       "    <tr>\n",
       "      <th>3</th>\n",
       "      <td>7</td>\n",
       "      <td>-0.01</td>\n",
       "      <td>-0.010000</td>\n",
       "    </tr>\n",
       "    <tr>\n",
       "      <th>4</th>\n",
       "      <td>8</td>\n",
       "      <td>-0.01</td>\n",
       "      <td>-0.010000</td>\n",
       "    </tr>\n",
       "  </tbody>\n",
       "</table>\n",
       "</div>"
      ],
      "text/plain": [
       "   sku_id  elasticity_gmv  elasticity_orders_num\n",
       "0       1           -0.01              -0.091652\n",
       "1       3           -0.01              -0.389979\n",
       "2       4           -0.01              -0.010000\n",
       "3       7           -0.01              -0.010000\n",
       "4       8           -0.01              -0.010000"
      ]
     },
     "execution_count": 6,
     "metadata": {},
     "output_type": "execute_result"
    }
   ],
   "source": [
    "df = elasticity_gmv_df.merge(elasticity_orders_num_df, on=\"sku_id\", how=\"inner\")\n",
    "df.head()"
   ]
  },
  {
   "cell_type": "code",
   "execution_count": 7,
   "id": "4d721de6-d84e-4caf-b092-150cc8f2ceb2",
   "metadata": {},
   "outputs": [],
   "source": [
    "df.to_csv(\"./to_karp_5_2.csv\", index=False)"
   ]
  },
  {
   "cell_type": "code",
   "execution_count": null,
   "id": "5e7f90c8-84de-4e10-a3fd-a56673ae172a",
   "metadata": {},
   "outputs": [],
   "source": []
  }
 ],
 "metadata": {
  "kernelspec": {
   "display_name": "Python 3 (ipykernel)",
   "language": "python",
   "name": "python3"
  },
  "language_info": {
   "codemirror_mode": {
    "name": "ipython",
    "version": 3
   },
   "file_extension": ".py",
   "mimetype": "text/x-python",
   "name": "python",
   "nbconvert_exporter": "python",
   "pygments_lexer": "ipython3",
   "version": "3.8.10"
  }
 },
 "nbformat": 4,
 "nbformat_minor": 5
}
