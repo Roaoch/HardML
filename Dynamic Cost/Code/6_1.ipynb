{
 "cells": [
  {
   "cell_type": "code",
   "execution_count": 5,
   "id": "472c95cc-00a8-4825-916a-006277d7a710",
   "metadata": {},
   "outputs": [],
   "source": [
    "from typing import Dict\n",
    "\n",
    "import numpy as np\n",
    "\n",
    "np.random.seed(54)\n",
    "\n",
    "\n",
    "class Strategy:\n",
    "    def __init__(self, n_arms: int) -> None:\n",
    "        self.n_arms = n_arms\n",
    "        self.n_iters = 0\n",
    "        self.arms_states = {\n",
    "            \"quantity\": np.zeros(n_arms),\n",
    "            \"revenue\": np.zeros(n_arms),\n",
    "            \"margin\": np.zeros(n_arms),\n",
    "        }\n",
    "        self.arms_actions = np.zeros(n_arms)\n",
    "\n",
    "    def flush(self) -> None:\n",
    "        self.n_iters = 0\n",
    "        for metric in self.arms_states.keys():\n",
    "            self.arms_states[metric] = np.zeros(self.n_arms)\n",
    "        self.arms_actions = np.zeros(self.n_arms)\n",
    "\n",
    "    def update_reward(self, arm_id: int, metrics: Dict[str, float]) -> None:\n",
    "        self.n_iters += 1\n",
    "        for metric, value in metrics.items():\n",
    "            self.arms_states[metric][arm_id] += value\n",
    "        self.arms_actions[arm_id] += 1\n",
    "\n",
    "    def choose_arm(self, target: str) -> int:\n",
    "        raise NotImplementedError(\"This method should be implemented by subclasses\")\n",
    "\n",
    "\n",
    "class Thompson(Strategy):\n",
    "    def choose_arm(self, target: str) -> int:\n",
    "        target_metric = self.arms_states[target]\n",
    "        return np.argmax(target_metric / (target_metric + self.arms_actions - target_metric)) "
   ]
  },
  {
   "cell_type": "code",
   "execution_count": null,
   "id": "22f5c419-ebe2-4fe0-b7fa-79e838f4a028",
   "metadata": {},
   "outputs": [],
   "source": []
  }
 ],
 "metadata": {
  "kernelspec": {
   "display_name": "Python 3 (ipykernel)",
   "language": "python",
   "name": "python3"
  },
  "language_info": {
   "codemirror_mode": {
    "name": "ipython",
    "version": 3
   },
   "file_extension": ".py",
   "mimetype": "text/x-python",
   "name": "python",
   "nbconvert_exporter": "python",
   "pygments_lexer": "ipython3",
   "version": "3.8.10"
  }
 },
 "nbformat": 4,
 "nbformat_minor": 5
}
