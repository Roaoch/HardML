{
 "cells": [
  {
   "cell_type": "code",
   "execution_count": 3,
   "id": "02cf1120-976f-449e-b934-a9f17686cc78",
   "metadata": {},
   "outputs": [
    {
     "name": "stdout",
     "output_type": "stream",
     "text": [
      "Collecting pyarrow\n",
      "  Using cached pyarrow-16.0.0-cp38-cp38-manylinux_2_28_x86_64.whl (40.8 MB)\n",
      "Collecting fastparquet\n",
      "  Using cached fastparquet-2024.2.0-cp38-cp38-manylinux_2_17_x86_64.manylinux2014_x86_64.whl (1.7 MB)\n",
      "Requirement already satisfied: numpy>=1.16.6 in /opt/conda/lib/python3.8/site-packages (from pyarrow) (1.24.4)\n",
      "Requirement already satisfied: packaging in /opt/conda/lib/python3.8/site-packages (from fastparquet) (21.3)\n",
      "Requirement already satisfied: pandas>=1.5.0 in /opt/conda/lib/python3.8/site-packages (from fastparquet) (1.5.1)\n",
      "Requirement already satisfied: fsspec in /opt/conda/lib/python3.8/site-packages (from fastparquet) (2024.3.1)\n",
      "Collecting cramjam>=2.3\n",
      "  Using cached cramjam-2.8.3-cp38-cp38-manylinux_2_17_x86_64.manylinux2014_x86_64.whl (2.0 MB)\n",
      "Requirement already satisfied: python-dateutil>=2.8.1 in /opt/conda/lib/python3.8/site-packages (from pandas>=1.5.0->fastparquet) (2.8.2)\n",
      "Requirement already satisfied: pytz>=2020.1 in /opt/conda/lib/python3.8/site-packages (from pandas>=1.5.0->fastparquet) (2021.3)\n",
      "Requirement already satisfied: pyparsing!=3.0.5,>=2.0.2 in /opt/conda/lib/python3.8/site-packages (from packaging->fastparquet) (3.0.7)\n",
      "Requirement already satisfied: six>=1.5 in /opt/conda/lib/python3.8/site-packages (from python-dateutil>=2.8.1->pandas>=1.5.0->fastparquet) (1.16.0)\n",
      "Installing collected packages: pyarrow, cramjam, fastparquet\n",
      "Successfully installed cramjam-2.8.3 fastparquet-2024.2.0 pyarrow-16.0.0\n"
     ]
    }
   ],
   "source": [
    "!pip install pyarrow fastparquet"
   ]
  },
  {
   "cell_type": "markdown",
   "id": "edc02053-2079-44f6-b370-5e6855008840",
   "metadata": {
    "tags": []
   },
   "source": [
    "# Задание 2: Спрос"
   ]
  },
  {
   "cell_type": "code",
   "execution_count": 25,
   "id": "7a2015ce-23c8-462e-a637-09b5269fb39c",
   "metadata": {},
   "outputs": [],
   "source": [
    "from typing import List, Dict, Any, Tuple, Union, Optional\n",
    "\n",
    "from datetime import datetime, timedelta\n",
    "import pandas as pd\n",
    "import numpy as np\n",
    "\n",
    "import matplotlib.pyplot as plt\n",
    "\n",
    "import warnings\n",
    "\n",
    "warnings.filterwarnings(\"ignore\")\n",
    "\n",
    "import logging\n",
    "\n",
    "logging.basicConfig()\n",
    "logger = logging.getLogger(\"model\")\n",
    "logger.setLevel(logging.INFO)"
   ]
  },
  {
   "cell_type": "markdown",
   "id": "bc30b711-0ea0-4537-8980-bdb768f8edbf",
   "metadata": {},
   "source": [
    "## Данные"
   ]
  },
  {
   "cell_type": "code",
   "execution_count": 26,
   "id": "67cb2ff4-472f-454c-b72e-8b8622d35f4e",
   "metadata": {},
   "outputs": [
    {
     "data": {
      "text/html": [
       "<div>\n",
       "<style scoped>\n",
       "    .dataframe tbody tr th:only-of-type {\n",
       "        vertical-align: middle;\n",
       "    }\n",
       "\n",
       "    .dataframe tbody tr th {\n",
       "        vertical-align: top;\n",
       "    }\n",
       "\n",
       "    .dataframe thead th {\n",
       "        text-align: right;\n",
       "    }\n",
       "</style>\n",
       "<table border=\"1\" class=\"dataframe\">\n",
       "  <thead>\n",
       "    <tr style=\"text-align: right;\">\n",
       "      <th></th>\n",
       "      <th>sku_id</th>\n",
       "      <th>gmv</th>\n",
       "      <th>orders_num</th>\n",
       "      <th>price</th>\n",
       "      <th>ds</th>\n",
       "    </tr>\n",
       "  </thead>\n",
       "  <tbody>\n",
       "    <tr>\n",
       "      <th>283</th>\n",
       "      <td>284</td>\n",
       "      <td>121161.0</td>\n",
       "      <td>116</td>\n",
       "      <td>1044.49</td>\n",
       "      <td>20230601</td>\n",
       "    </tr>\n",
       "    <tr>\n",
       "      <th>302</th>\n",
       "      <td>303</td>\n",
       "      <td>10413.0</td>\n",
       "      <td>186</td>\n",
       "      <td>55.98</td>\n",
       "      <td>20230601</td>\n",
       "    </tr>\n",
       "    <tr>\n",
       "      <th>235</th>\n",
       "      <td>236</td>\n",
       "      <td>550034.0</td>\n",
       "      <td>2569</td>\n",
       "      <td>214.10</td>\n",
       "      <td>20230601</td>\n",
       "    </tr>\n",
       "    <tr>\n",
       "      <th>206</th>\n",
       "      <td>207</td>\n",
       "      <td>18895.0</td>\n",
       "      <td>250</td>\n",
       "      <td>75.58</td>\n",
       "      <td>20230601</td>\n",
       "    </tr>\n",
       "    <tr>\n",
       "      <th>245</th>\n",
       "      <td>246</td>\n",
       "      <td>264666.0</td>\n",
       "      <td>3232</td>\n",
       "      <td>81.89</td>\n",
       "      <td>20230601</td>\n",
       "    </tr>\n",
       "  </tbody>\n",
       "</table>\n",
       "</div>"
      ],
      "text/plain": [
       "     sku_id       gmv  orders_num    price        ds\n",
       "283     284  121161.0         116  1044.49  20230601\n",
       "302     303   10413.0         186    55.98  20230601\n",
       "235     236  550034.0        2569   214.10  20230601\n",
       "206     207   18895.0         250    75.58  20230601\n",
       "245     246  264666.0        3232    81.89  20230601"
      ]
     },
     "execution_count": 26,
     "metadata": {},
     "output_type": "execute_result"
    }
   ],
   "source": [
    "sales_df = pd.read_parquet(\"./hm/sales.parquet\")\n",
    "sales_df[\"ds\"] = sales_df[\"ds\"].astype(str)\n",
    "sales_df.head()"
   ]
  },
  {
   "cell_type": "code",
   "execution_count": 27,
   "id": "ccca1cd3-3c85-4764-9983-921ebf0494e1",
   "metadata": {},
   "outputs": [
    {
     "data": {
      "text/html": [
       "<div>\n",
       "<style scoped>\n",
       "    .dataframe tbody tr th:only-of-type {\n",
       "        vertical-align: middle;\n",
       "    }\n",
       "\n",
       "    .dataframe tbody tr th {\n",
       "        vertical-align: top;\n",
       "    }\n",
       "\n",
       "    .dataframe thead th {\n",
       "        text-align: right;\n",
       "    }\n",
       "</style>\n",
       "<table border=\"1\" class=\"dataframe\">\n",
       "  <thead>\n",
       "    <tr style=\"text-align: right;\">\n",
       "      <th></th>\n",
       "      <th>sku_id</th>\n",
       "      <th>ds</th>\n",
       "      <th>gmv</th>\n",
       "      <th>orders_num</th>\n",
       "    </tr>\n",
       "  </thead>\n",
       "  <tbody>\n",
       "    <tr>\n",
       "      <th>0</th>\n",
       "      <td>1</td>\n",
       "      <td>20240101</td>\n",
       "      <td>3.178754e+04</td>\n",
       "      <td>2289.615385</td>\n",
       "    </tr>\n",
       "    <tr>\n",
       "      <th>1</th>\n",
       "      <td>3</td>\n",
       "      <td>20240101</td>\n",
       "      <td>1.489777e+04</td>\n",
       "      <td>1097.846154</td>\n",
       "    </tr>\n",
       "    <tr>\n",
       "      <th>2</th>\n",
       "      <td>4</td>\n",
       "      <td>20240101</td>\n",
       "      <td>2.250486e+05</td>\n",
       "      <td>3871.461538</td>\n",
       "    </tr>\n",
       "    <tr>\n",
       "      <th>3</th>\n",
       "      <td>7</td>\n",
       "      <td>20240101</td>\n",
       "      <td>1.166771e+06</td>\n",
       "      <td>5239.000000</td>\n",
       "    </tr>\n",
       "    <tr>\n",
       "      <th>4</th>\n",
       "      <td>8</td>\n",
       "      <td>20240101</td>\n",
       "      <td>6.135953e+05</td>\n",
       "      <td>5803.142857</td>\n",
       "    </tr>\n",
       "  </tbody>\n",
       "</table>\n",
       "</div>"
      ],
      "text/plain": [
       "   sku_id        ds           gmv   orders_num\n",
       "0       1  20240101  3.178754e+04  2289.615385\n",
       "1       3  20240101  1.489777e+04  1097.846154\n",
       "2       4  20240101  2.250486e+05  3871.461538\n",
       "3       7  20240101  1.166771e+06  5239.000000\n",
       "4       8  20240101  6.135953e+05  5803.142857"
      ]
     },
     "execution_count": 27,
     "metadata": {},
     "output_type": "execute_result"
    }
   ],
   "source": [
    "base_df = pd.read_csv(\"./to_karp_5_1.csv\")\n",
    "base_df[\"ds\"] = base_df[\"ds\"].astype(str)\n",
    "base_df.head()"
   ]
  },
  {
   "cell_type": "code",
   "execution_count": 28,
   "id": "9d7d7808-5e8b-4a1f-aa60-eacfd3526a3e",
   "metadata": {},
   "outputs": [
    {
     "data": {
      "text/html": [
       "<div>\n",
       "<style scoped>\n",
       "    .dataframe tbody tr th:only-of-type {\n",
       "        vertical-align: middle;\n",
       "    }\n",
       "\n",
       "    .dataframe tbody tr th {\n",
       "        vertical-align: top;\n",
       "    }\n",
       "\n",
       "    .dataframe thead th {\n",
       "        text-align: right;\n",
       "    }\n",
       "</style>\n",
       "<table border=\"1\" class=\"dataframe\">\n",
       "  <thead>\n",
       "    <tr style=\"text-align: right;\">\n",
       "      <th></th>\n",
       "      <th>sku_id</th>\n",
       "      <th>elasticity_gmv</th>\n",
       "      <th>elasticity_orders_num</th>\n",
       "    </tr>\n",
       "  </thead>\n",
       "  <tbody>\n",
       "    <tr>\n",
       "      <th>0</th>\n",
       "      <td>1</td>\n",
       "      <td>-0.01</td>\n",
       "      <td>-0.091652</td>\n",
       "    </tr>\n",
       "    <tr>\n",
       "      <th>1</th>\n",
       "      <td>3</td>\n",
       "      <td>-0.01</td>\n",
       "      <td>-0.389979</td>\n",
       "    </tr>\n",
       "    <tr>\n",
       "      <th>2</th>\n",
       "      <td>4</td>\n",
       "      <td>-0.01</td>\n",
       "      <td>-0.010000</td>\n",
       "    </tr>\n",
       "    <tr>\n",
       "      <th>3</th>\n",
       "      <td>7</td>\n",
       "      <td>-0.01</td>\n",
       "      <td>-0.010000</td>\n",
       "    </tr>\n",
       "    <tr>\n",
       "      <th>4</th>\n",
       "      <td>8</td>\n",
       "      <td>-0.01</td>\n",
       "      <td>-0.010000</td>\n",
       "    </tr>\n",
       "  </tbody>\n",
       "</table>\n",
       "</div>"
      ],
      "text/plain": [
       "   sku_id  elasticity_gmv  elasticity_orders_num\n",
       "0       1           -0.01              -0.091652\n",
       "1       3           -0.01              -0.389979\n",
       "2       4           -0.01              -0.010000\n",
       "3       7           -0.01              -0.010000\n",
       "4       8           -0.01              -0.010000"
      ]
     },
     "execution_count": 28,
     "metadata": {},
     "output_type": "execute_result"
    }
   ],
   "source": [
    "elasticity_df = pd.read_csv(\"./to_karp_5_2.csv\")\n",
    "elasticity_df.head()"
   ]
  },
  {
   "cell_type": "markdown",
   "id": "a8b32e9d-8897-40d2-9934-62f26653332e",
   "metadata": {},
   "source": [
    "## Сборка датасета для предсказания"
   ]
  },
  {
   "cell_type": "code",
   "execution_count": 29,
   "id": "191c6495-b559-423e-b422-6d25ef2b1406",
   "metadata": {},
   "outputs": [],
   "source": [
    "def calc_rolling_window(\n",
    "    df: pd.DataFrame,\n",
    "    window: int,\n",
    "    col: str,\n",
    "    lvl: str,\n",
    "    shift: int,\n",
    ") -> pd.DataFrame:\n",
    "    df = df.sort_values([\"ds\", lvl])\n",
    "    df[\"ts\"] = pd.to_datetime(df[\"ds\"].astype(str))\n",
    "    df[\"col\"] = df[col]\n",
    "    rolling_df = df.set_index(\"ts\")\n",
    "    rolling_df = (\n",
    "        rolling_df.groupby([lvl], group_keys=True)[\"col\"]\n",
    "        # используем shift, так как потом нам нужно предсказывать на N дней вперед:\n",
    "        # для однородности датасета используем сдвиг на кол-во дат в предсказании\n",
    "        .apply(\n",
    "            lambda x: x.asfreq(\"1D\")\n",
    "            .rolling(window=window, closed=\"left\", min_periods=0)\n",
    "            .mean()\n",
    "            .shift(shift)\n",
    "        )\n",
    "        .reset_index()\n",
    "        .rename(columns={\"col\": f\"rolling_{col}_w_{window}\"})\n",
    "    )\n",
    "    df = df.merge(rolling_df, how=\"left\", on=[lvl, \"ts\"])\n",
    "    df = df.drop(columns=[\"ts\", \"col\"])\n",
    "    return df"
   ]
  },
  {
   "cell_type": "code",
   "execution_count": 30,
   "id": "60efea0d-6fe4-4b30-9dde-8e60e6d32dab",
   "metadata": {},
   "outputs": [],
   "source": [
    "def generate_date_list(start_date_str: str, end_date_str: str) -> List[str]:\n",
    "    start_date = datetime.strptime(start_date_str, \"%Y%m%d\")\n",
    "    end_date = datetime.strptime(end_date_str, \"%Y%m%d\")\n",
    "    num_days = (end_date - start_date).days + 1\n",
    "    return [\n",
    "        (start_date + timedelta(days=i)).strftime(\"%Y%m%d\") for i in range(num_days)\n",
    "    ]"
   ]
  },
  {
   "cell_type": "code",
   "execution_count": 31,
   "id": "fe2f85f4-7352-4eb5-99e5-f98e91b7255e",
   "metadata": {},
   "outputs": [
    {
     "data": {
      "text/html": [
       "<div>\n",
       "<style scoped>\n",
       "    .dataframe tbody tr th:only-of-type {\n",
       "        vertical-align: middle;\n",
       "    }\n",
       "\n",
       "    .dataframe tbody tr th {\n",
       "        vertical-align: top;\n",
       "    }\n",
       "\n",
       "    .dataframe thead th {\n",
       "        text-align: right;\n",
       "    }\n",
       "</style>\n",
       "<table border=\"1\" class=\"dataframe\">\n",
       "  <thead>\n",
       "    <tr style=\"text-align: right;\">\n",
       "      <th></th>\n",
       "      <th>sku_id</th>\n",
       "      <th>discount</th>\n",
       "      <th>orders_num</th>\n",
       "      <th>gmv</th>\n",
       "      <th>margin</th>\n",
       "      <th>ds</th>\n",
       "    </tr>\n",
       "  </thead>\n",
       "  <tbody>\n",
       "    <tr>\n",
       "      <th>0</th>\n",
       "      <td>1</td>\n",
       "      <td>-0.10</td>\n",
       "      <td>2363.433516</td>\n",
       "      <td>31897.783793</td>\n",
       "      <td>0.000000</td>\n",
       "      <td>20240101</td>\n",
       "    </tr>\n",
       "    <tr>\n",
       "      <th>1</th>\n",
       "      <td>1</td>\n",
       "      <td>-0.08</td>\n",
       "      <td>2358.677397</td>\n",
       "      <td>31890.773779</td>\n",
       "      <td>637.815476</td>\n",
       "      <td>20240101</td>\n",
       "    </tr>\n",
       "    <tr>\n",
       "      <th>2</th>\n",
       "      <td>1</td>\n",
       "      <td>-0.06</td>\n",
       "      <td>2354.032833</td>\n",
       "      <td>31883.916021</td>\n",
       "      <td>1275.356641</td>\n",
       "      <td>20240101</td>\n",
       "    </tr>\n",
       "    <tr>\n",
       "      <th>3</th>\n",
       "      <td>1</td>\n",
       "      <td>-0.04</td>\n",
       "      <td>2349.494916</td>\n",
       "      <td>31877.204077</td>\n",
       "      <td>1912.632245</td>\n",
       "      <td>20240101</td>\n",
       "    </tr>\n",
       "    <tr>\n",
       "      <th>4</th>\n",
       "      <td>1</td>\n",
       "      <td>-0.02</td>\n",
       "      <td>2345.059049</td>\n",
       "      <td>31870.631902</td>\n",
       "      <td>2549.650552</td>\n",
       "      <td>20240101</td>\n",
       "    </tr>\n",
       "  </tbody>\n",
       "</table>\n",
       "</div>"
      ],
      "text/plain": [
       "   sku_id  discount   orders_num           gmv       margin        ds\n",
       "0       1     -0.10  2363.433516  31897.783793     0.000000  20240101\n",
       "1       1     -0.08  2358.677397  31890.773779   637.815476  20240101\n",
       "2       1     -0.06  2354.032833  31883.916021  1275.356641  20240101\n",
       "3       1     -0.04  2349.494916  31877.204077  1912.632245  20240101\n",
       "4       1     -0.02  2345.059049  31870.631902  2549.650552  20240101"
      ]
     },
     "execution_count": 31,
     "metadata": {},
     "output_type": "execute_result"
    }
   ],
   "source": [
    "START_DS, END_DS = \"20240101\", \"20240107\"\n",
    "\n",
    "# Считаем последние цены\n",
    "df = sales_df.copy(deep=True)[[\"sku_id\", \"price\", \"ds\"]]\n",
    "df = df.sort_values(by=[\"sku_id\", \"ds\"])\n",
    "df = df.groupby(\"sku_id\").last().reset_index()\n",
    "df = df.drop(columns=[\"ds\"])\n",
    "\n",
    "# Расширяем датасет на разные даты\n",
    "ds_list = generate_date_list(start_date_str=START_DS, end_date_str=END_DS)\n",
    "ds_df = pd.DataFrame({\"ds\": ds_list})\n",
    "df = df.merge(ds_df, how=\"cross\")\n",
    "\n",
    "# Конкатим с историческими данными\n",
    "cols = df.columns.tolist()\n",
    "df = pd.concat(\n",
    "    [sales_df.copy(deep=True).sort_values(by=[\"sku_id\", \"ds\"])[cols], df[cols]]\n",
    ")\n",
    "\n",
    "# Считаем нормализованную цену\n",
    "df = calc_rolling_window(\n",
    "    df=df,\n",
    "    window=14,\n",
    "    col=\"price\",\n",
    "    lvl=\"sku_id\",\n",
    "    shift=7,\n",
    ")\n",
    "df = df[df[\"ds\"].between(START_DS, END_DS)]\n",
    "\n",
    "# Мержим базовый спрос\n",
    "df = df.merge(base_df, on=[\"sku_id\", \"ds\"], how=\"left\")\n",
    "\n",
    "# Мержим эластичность\n",
    "df = df.merge(elasticity_df, on=\"sku_id\", how=\"left\")\n",
    "\n",
    "# Предсказываем спрос для разных цен\n",
    "discounts_df = pd.DataFrame({\"discount\": np.arange(-0.1, 0.11, 0.02).round(2).tolist()})\n",
    "df = df.join(discounts_df, how=\"cross\")\n",
    "df[\"price\"] = df[\"price\"] + df[\"price\"] * df[\"discount\"]\n",
    "df[\"price_norm\"] = df[\"price\"] / df[\"rolling_price_w_14\"]\n",
    "df[\"gmv\"] = df[\"gmv\"] * pow(df[\"price_norm\"], df[\"elasticity_gmv\"])\n",
    "df[\"orders_num\"] = df[\"orders_num\"] * pow(df[\"price_norm\"], df[\"elasticity_orders_num\"])\n",
    "df[\"margin\"] = df[\"gmv\"] * 0.1 + df[\"gmv\"] * df[\"discount\"]\n",
    "df = df[[\"sku_id\", \"discount\", \"orders_num\", \"gmv\", \"margin\", \"ds\"]]\n",
    "df.head()"
   ]
  },
  {
   "cell_type": "code",
   "execution_count": 32,
   "id": "476e946f-5e84-4ccf-a556-2f4679f33263",
   "metadata": {},
   "outputs": [
    {
     "name": "stderr",
     "output_type": "stream",
     "text": [
      "WARNING:matplotlib.legend:No handles with labels found to put in legend.\n"
     ]
    },
    {
     "data": {
      "image/png": "[encoded data removed]",
      "text/plain": [
       "<Figure size 1728x576 with 2 Axes>"
      ]
     },
     "metadata": {
      "needs_background": "light"
     },
     "output_type": "display_data"
    }
   ],
   "source": [
    "# Отрисуем кривую эластичности для товара\n",
    "SKU_ID = 1\n",
    "plot_df = df[(df[\"sku_id\"] == SKU_ID) & (df[\"ds\"] == START_DS)]\n",
    "fig, axs = plt.subplots(1, 2, figsize=(24, 8))  # два графика в ряд\n",
    "for id, metric in enumerate((\"gmv\", \"orders_num\")):\n",
    "    axs[id].plot(plot_df[metric], plot_df[\"discount\"], marker=\"o\")\n",
    "    axs[id].set_ylabel(\"Цена\", fontsize=12)\n",
    "    axs[id].set_xlabel(metric, fontsize=12)\n",
    "    axs[id].set_title(\n",
    "        f\"Зависимость {metric} от цены для товара sku_id={SKU_ID} на {START_DS}\",\n",
    "        fontsize=12,\n",
    "    )\n",
    "    axs[id].grid(True)\n",
    "plt.legend()\n",
    "plt.show()"
   ]
  },
  {
   "cell_type": "code",
   "execution_count": 33,
   "id": "4d721de6-d84e-4caf-b092-150cc8f2ceb2",
   "metadata": {},
   "outputs": [],
   "source": [
    "df.to_csv(\"./to_karp_5_3.csv\", index=False)"
   ]
  },
  {
   "cell_type": "code",
   "execution_count": null,
   "id": "b101bd62-c3c5-4fa1-aa28-7aaf5d34a31d",
   "metadata": {},
   "outputs": [],
   "source": []
  }
 ],
 "metadata": {
  "kernelspec": {
   "display_name": "Python 3 (ipykernel)",
   "language": "python",
   "name": "python3"
  },
  "language_info": {
   "codemirror_mode": {
    "name": "ipython",
    "version": 3
   },
   "file_extension": ".py",
   "mimetype": "text/x-python",
   "name": "python",
   "nbconvert_exporter": "python",
   "pygments_lexer": "ipython3",
   "version": "3.8.10"
  }
 },
 "nbformat": 4,
 "nbformat_minor": 5
}
